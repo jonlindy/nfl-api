{
 "cells": [
  {
   "cell_type": "code",
   "execution_count": null,
   "id": "fc2c778b",
   "metadata": {},
   "outputs": [],
   "source": [
    "!pip uninstall pandas"
   ]
  },
  {
   "cell_type": "code",
   "execution_count": 1,
   "id": "ec275ac5",
   "metadata": {},
   "outputs": [],
   "source": [
    "teamDict = {\n",
    "    \"Cardinals\": 1,\n",
    "    \"Falcons\": 2,\n",
    "    \"Ravens\": 3,\n",
    "    \"Bills\": 4,\n",
    "    \"Panthers\": 5,\n",
    "    \"Bears\": 6,\n",
    "    \"Bengals\": 7,\n",
    "    \"Browns\": 8,\n",
    "    \"Cowboys\": 9,\n",
    "    \"Broncos\": 10,\n",
    "    \"Lions\": 11,\n",
    "    \"Packers\": 12,\n",
    "    \"Texans\": 13,\n",
    "    \"Colts\": 14,\n",
    "    \"Jaguars\": 15,\n",
    "    \"Chiefs\": 16,\n",
    "    \"Rams\": 17,\n",
    "    \"Chargers\": 18,\n",
    "    \"Dolphins\": 19,\n",
    "    \"Vikings\": 20,\n",
    "    \"Patriots\": 21,\n",
    "    \"Saints\": 22,\n",
    "    \"Giants\": 23,\n",
    "    \"Jets\": 24,\n",
    "    \"Raiders\": 25,\n",
    "    \"Eagles\": 26,\n",
    "    \"Steelers\": 27,\n",
    "    \"49ers\": 28,\n",
    "    \"Niners\": 28,\n",
    "    \"Seahawks\": 29,\n",
    "    \"Buccaneers\": 30,\n",
    "    \"Titans\": 31,\n",
    "    \"Commanders\": 32,\n",
    "    \"Football Team\": 33,\n",
    "    \"Redskins\": 34,\n",
    "    \"Oilers\": 35,    \n",
    "}"
   ]
  },
  {
   "cell_type": "code",
   "execution_count": 2,
   "id": "7db0d6d2",
   "metadata": {},
   "outputs": [
    {
     "ename": "ModuleNotFoundError",
     "evalue": "No module named 'pandas'",
     "output_type": "error",
     "traceback": [
      "\u001b[1;31m---------------------------------------------------------------------------\u001b[0m",
      "\u001b[1;31mModuleNotFoundError\u001b[0m                       Traceback (most recent call last)",
      "Cell \u001b[1;32mIn[2], line 4\u001b[0m\n\u001b[0;32m      2\u001b[0m \u001b[38;5;28;01mfrom\u001b[39;00m \u001b[38;5;21;01mbs4\u001b[39;00m \u001b[38;5;28;01mimport\u001b[39;00m BeautifulSoup\n\u001b[0;32m      3\u001b[0m \u001b[38;5;28;01mimport\u001b[39;00m \u001b[38;5;21;01mcsv\u001b[39;00m\n\u001b[1;32m----> 4\u001b[0m \u001b[38;5;28;01mimport\u001b[39;00m \u001b[38;5;21;01mpandas\u001b[39;00m \u001b[38;5;28;01mas\u001b[39;00m \u001b[38;5;21;01mpd\u001b[39;00m\n\u001b[0;32m      7\u001b[0m \u001b[38;5;28;01mdef\u001b[39;00m \u001b[38;5;21mscrapeTeamRushing\u001b[39m(year):    \n\u001b[0;32m      8\u001b[0m     url \u001b[38;5;241m=\u001b[39m \u001b[38;5;124mf\u001b[39m\u001b[38;5;124m\"\u001b[39m\u001b[38;5;124mhttps://www.nfl.com/stats/team-stats/offense/rushing/\u001b[39m\u001b[38;5;132;01m{\u001b[39;00myear\u001b[38;5;132;01m}\u001b[39;00m\u001b[38;5;124m/reg/all\u001b[39m\u001b[38;5;124m\"\u001b[39m\n",
      "\u001b[1;31mModuleNotFoundError\u001b[0m: No module named 'pandas'"
     ]
    }
   ],
   "source": [
    "import requests\n",
    "from bs4 import BeautifulSoup\n",
    "import csv\n",
    "import pandas as pd\n",
    "\n",
    "\n",
    "def scrapeTeamRushing(year):    \n",
    "    url = f\"https://www.nfl.com/stats/team-stats/offense/rushing/{year}/reg/all\"\n",
    "    # Get web data from nfl.com\n",
    "    response = requests.get(url)\n",
    "\n",
    "    # Parse the HTML content of the webpage\n",
    "    soup = BeautifulSoup(response.content, 'html.parser')\n",
    "    table = soup.find(\"table\")\n",
    "    \n",
    "    data = []\n",
    "    for row in table.find_all(\"tr\"):\n",
    "        row_data = []\n",
    "        for cell in row.find_all([\"th\", \"td\"]):\n",
    "            row_data.append(cell.get_text(strip=True))\n",
    "        row_data[0] = row_data[0][:len(row_data[0])//2]\n",
    "        team_id = teamDict.get(row_data[0])\n",
    "        row_data.insert(0, team_id)\n",
    "        row_data.append(year)        \n",
    "        data.append(row_data)\n",
    "    \n",
    "    df = pd.DataFrame(data)\n",
    "    \n",
    "    print(df)\n",
    "    \n",
    "    \n",
    "        \n",
    "#     with open(\"team-passing.csv\", \"a\", newline=\"\") as csv_file:\n",
    "#         print(f\"Writing data for {year}\")\n",
    "#         writer = csv.writer(csv_file)\n",
    "#         # Avoiding writing the header row again for each year\n",
    "#         for row in data[1:]:\n",
    "#             writer.writerow(row)"
   ]
  },
  {
   "cell_type": "code",
   "execution_count": null,
   "id": "0a9ed9d8",
   "metadata": {},
   "outputs": [],
   "source": []
  }
 ],
 "metadata": {
  "kernelspec": {
   "display_name": "Python 3 (ipykernel)",
   "language": "python",
   "name": "python3"
  },
  "language_info": {
   "codemirror_mode": {
    "name": "ipython",
    "version": 3
   },
   "file_extension": ".py",
   "mimetype": "text/x-python",
   "name": "python",
   "nbconvert_exporter": "python",
   "pygments_lexer": "ipython3",
   "version": "3.12.2"
  }
 },
 "nbformat": 4,
 "nbformat_minor": 5
}
